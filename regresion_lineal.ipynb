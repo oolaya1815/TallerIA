{
  "nbformat": 4,
  "nbformat_minor": 0,
  "metadata": {
    "colab": {
      "name": "regresion_lineal.ipynb",
      "provenance": [],
      "toc_visible": true
    },
    "kernelspec": {
      "name": "python3",
      "display_name": "Python 3"
    },
    "language_info": {
      "name": "python"
    }
  },
  "cells": [
    {
      "cell_type": "code",
      "metadata": {
        "id": "J-0VyV0xcHbn"
      },
      "source": [
        "import numpy as np\n",
        "import matplotlib.pyplot as plt\n",
        "from sklearn.datasets import load_boston"
      ],
      "execution_count": null,
      "outputs": []
    },
    {
      "cell_type": "code",
      "metadata": {
        "id": "H0h_aIlDp6ac"
      },
      "source": [
        "boston = load_boston()"
      ],
      "execution_count": null,
      "outputs": []
    },
    {
      "cell_type": "code",
      "metadata": {
        "id": "lrlRuJRdqKem"
      },
      "source": [
        "print(boston)"
      ],
      "execution_count": null,
      "outputs": []
    },
    {
      "cell_type": "markdown",
      "metadata": {
        "id": "gpDraJuCqp_L"
      },
      "source": [
        "FORMULA PARA MINIMIZAR EL ERROR \n",
        "\n",
        "$W = (X^{T}X)^{-1}X^{T}Y$"
      ]
    },
    {
      "cell_type": "code",
      "metadata": {
        "id": "6edJxW-kqpFH"
      },
      "source": [
        "X = np.array(boston.data[:,5])\n",
        "Y = np.array(boston.target)\n",
        "\n",
        "plt.scatter(X,Y, alpha=0.2)\n",
        "plt.savefig('prueba.jpg')"
      ],
      "execution_count": null,
      "outputs": []
    },
    {
      "cell_type": "markdown",
      "metadata": {
        "id": "eCXTUilbtaPj"
      },
      "source": [
        "Agregar el termino independiente"
      ]
    },
    {
      "cell_type": "code",
      "metadata": {
        "id": "MJa9YTo8tZ09"
      },
      "source": [
        " X = np.array([np.ones(len(X)),X]).T"
      ],
      "execution_count": null,
      "outputs": []
    },
    {
      "cell_type": "markdown",
      "metadata": {
        "id": "T06ZAc_0sutJ"
      },
      "source": [
        "## calculo de parametros W"
      ]
    },
    {
      "cell_type": "code",
      "metadata": {
        "id": "yF40OHKPsppi"
      },
      "source": [
        "W = np.linalg.inv(X.T @ X) @ X.T @ Y"
      ],
      "execution_count": null,
      "outputs": []
    },
    {
      "cell_type": "markdown",
      "metadata": {
        "id": "6-SGHoyqtxej"
      },
      "source": [
        "## La recta de prediccion"
      ]
    },
    {
      "cell_type": "code",
      "metadata": {
        "id": "CY6vZhrvtwxn"
      },
      "source": [
        "plt.scatter(boston.data[:,5],Y, alpha=0.2)\n",
        "plt.grid()\n",
        "plt.plot( [min(X[:,1]) , max(X[:,1])] , [ W[0] + W[1]*min(X[:,1]) , W[0] + W[1]*max(X[:,1]) ] , c = 'red' )\n",
        "plt.show()"
      ],
      "execution_count": null,
      "outputs": []
    },
    {
      "cell_type": "markdown",
      "metadata": {
        "id": "Xw7-YSIXwDjP"
      },
      "source": [
        "Scikit-learn"
      ]
    },
    {
      "cell_type": "code",
      "metadata": {
        "id": "6XvaWPAcwLco"
      },
      "source": [
        "from sklearn.model_selection import train_test_split\n",
        "from sklearn.linear_model import LinearRegression"
      ],
      "execution_count": null,
      "outputs": []
    },
    {
      "cell_type": "code",
      "metadata": {
        "id": "vCpS2fpowYps"
      },
      "source": [
        "x_ent, x_test, y_ent, y_test = train_test_split(boston.data,boston.target)"
      ],
      "execution_count": null,
      "outputs": []
    },
    {
      "cell_type": "code",
      "metadata": {
        "id": "IMP-RGTNw7EC"
      },
      "source": [
        "x_ent.shape"
      ],
      "execution_count": null,
      "outputs": []
    },
    {
      "cell_type": "code",
      "metadata": {
        "id": "n9-65WYjxCot"
      },
      "source": [
        "x_test.shape"
      ],
      "execution_count": null,
      "outputs": []
    },
    {
      "cell_type": "code",
      "metadata": {
        "id": "9p0fvcmxxJFl"
      },
      "source": [
        "rl = LinearRegression()"
      ],
      "execution_count": null,
      "outputs": []
    },
    {
      "cell_type": "code",
      "metadata": {
        "id": "0HM6YKCExNZ2"
      },
      "source": [
        "rl.fit(x_ent,y_ent)"
      ],
      "execution_count": null,
      "outputs": []
    },
    {
      "cell_type": "code",
      "metadata": {
        "id": "UncohCWPxT8A"
      },
      "source": [
        "rl.score(x_test,y_test)"
      ],
      "execution_count": null,
      "outputs": []
    }
  ]
}