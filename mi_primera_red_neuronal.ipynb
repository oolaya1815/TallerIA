{
  "nbformat": 4,
  "nbformat_minor": 0,
  "metadata": {
    "colab": {
      "name": "mi_primera_red_neuronal.ipynb",
      "provenance": []
    },
    "kernelspec": {
      "name": "python3",
      "display_name": "Python 3"
    }
  },
  "cells": [
    {
      "cell_type": "code",
      "metadata": {
        "id": "Ako5s_-48V_L",
        "colab": {
          "base_uri": "https://localhost:8080/"
        },
        "outputId": "90383f57-aef9-4cf3-caf4-15e0d83a0b92"
      },
      "source": [
        "! cat /etc/os-release"
      ],
      "execution_count": null,
      "outputs": [
        {
          "output_type": "stream",
          "text": [
            "NAME=\"Ubuntu\"\n",
            "VERSION=\"18.04.5 LTS (Bionic Beaver)\"\n",
            "ID=ubuntu\n",
            "ID_LIKE=debian\n",
            "PRETTY_NAME=\"Ubuntu 18.04.5 LTS\"\n",
            "VERSION_ID=\"18.04\"\n",
            "HOME_URL=\"https://www.ubuntu.com/\"\n",
            "SUPPORT_URL=\"https://help.ubuntu.com/\"\n",
            "BUG_REPORT_URL=\"https://bugs.launchpad.net/ubuntu/\"\n",
            "PRIVACY_POLICY_URL=\"https://www.ubuntu.com/legal/terms-and-policies/privacy-policy\"\n",
            "VERSION_CODENAME=bionic\n",
            "UBUNTU_CODENAME=bionic\n"
          ],
          "name": "stdout"
        }
      ]
    },
    {
      "cell_type": "markdown",
      "metadata": {
        "id": "6lOR9wKhupq1"
      },
      "source": [
        "# 10 líneas de Python para crear y entrenar una red"
      ]
    },
    {
      "cell_type": "code",
      "metadata": {
        "id": "3lLG3cmxkwJC",
        "colab": {
          "base_uri": "https://localhost:8080/"
        },
        "outputId": "6abcfb57-2cfc-4db5-ca75-c8bb15e95f61"
      },
      "source": [
        "import tensorflow as tf\n",
        "from tensorflow.keras.utils import to_categorical\n",
        "\n",
        "(x_train, y_train), _ = tf.keras.datasets.mnist.load_data()\n",
        "\n",
        "x_train = x_train.reshape(60000, 784).astype('float32')/255\n",
        "y_train = to_categorical(y_train, num_classes=10)\n",
        "\n",
        "model = tf.keras.Sequential()\n",
        "model.add(tf.keras.layers.Dense(10, activation='sigmoid', input_shape=(784,)))\n",
        "model.add(tf.keras.layers.Dense(10, activation='softmax'))\n",
        "\n",
        "model.compile(loss=\"categorical_crossentropy\", optimizer=\"sgd\", metrics = ['accuracy'])\n",
        "\n",
        "_ = model.fit(x_train, y_train, epochs=10, verbose=0)\n"
      ],
      "execution_count": null,
      "outputs": [
        {
          "output_type": "stream",
          "text": [
            "Downloading data from https://storage.googleapis.com/tensorflow/tf-keras-datasets/mnist.npz\n",
            "11493376/11490434 [==============================] - 0s 0us/step\n"
          ],
          "name": "stdout"
        }
      ]
    },
    {
      "cell_type": "markdown",
      "metadata": {
        "id": "5dd_X3hHvVJH"
      },
      "source": [
        "### ¿Resultado? en `model` tenemos un modelo entrenado"
      ]
    },
    {
      "cell_type": "markdown",
      "metadata": {
        "id": "woV-lW-Ku26F"
      },
      "source": [
        "# ¿Cómo usar el modelo `model`  para inferir?\n"
      ]
    },
    {
      "cell_type": "markdown",
      "metadata": {
        "id": "L02MU1bl-T5Y"
      },
      "source": [
        "![figura model](https://raw.githubusercontent.com/jorditorresBCN/HACK-FROM-HOME-ROUND-2/master/model-neural-net-graph.png)"
      ]
    },
    {
      "cell_type": "markdown",
      "metadata": {
        "id": "PCaPrYBW_apm"
      },
      "source": [
        "## con `model.predict()`"
      ]
    },
    {
      "cell_type": "markdown",
      "metadata": {
        "id": "Z_RbTuJxw0yf"
      },
      "source": [
        "descargamos imagenes de ejemplo en el `array` x_text "
      ]
    },
    {
      "cell_type": "code",
      "metadata": {
        "id": "sQN-1k4SlJPO"
      },
      "source": [
        "_, (x_test, _ )= tf.keras.datasets.mnist.load_data()\n",
        "x_test_ = x_test.reshape(10000, 784).astype('float32')/255"
      ],
      "execution_count": null,
      "outputs": []
    },
    {
      "cell_type": "code",
      "metadata": {
        "id": "15Adnhf4zazx"
      },
      "source": [
        "image = 7"
      ],
      "execution_count": null,
      "outputs": []
    },
    {
      "cell_type": "code",
      "metadata": {
        "id": "VwVA0cYTrZqh",
        "colab": {
          "base_uri": "https://localhost:8080/",
          "height": 265
        },
        "outputId": "8eb1114b-63d2-4d84-8c77-ef906c1f80f7"
      },
      "source": [
        "import matplotlib.pyplot as plt\n",
        "_ = plt.imshow(x_test[image], cmap=plt.cm.binary)"
      ],
      "execution_count": null,
      "outputs": [
        {
          "output_type": "display_data",
          "data": {
            "image/png": "[encoded data removed]",
            "text/plain": [
              "<Figure size 432x288 with 1 Axes>"
            ]
          },
          "metadata": {
            "tags": [],
            "needs_background": "light"
          }
        }
      ]
    },
    {
      "cell_type": "code",
      "metadata": {
        "id": "1NeDiON0rbm9",
        "colab": {
          "base_uri": "https://localhost:8080/"
        },
        "outputId": "9e3b326a-a829-48ae-b92c-58594ec85b7a"
      },
      "source": [
        "import numpy as np\n",
        "\n",
        "prediction = model.predict(x_test_)\n",
        "print(\"Predicción del modelo: \", np.argmax(prediction[image]) )"
      ],
      "execution_count": null,
      "outputs": [
        {
          "output_type": "stream",
          "text": [
            "Predicción del modelo:  9\n"
          ],
          "name": "stdout"
        }
      ]
    },
    {
      "cell_type": "markdown",
      "metadata": {
        "id": "HhAZx4Mdu8XA"
      },
      "source": [
        "# ¿Entrenamiento?  4 pasos"
      ]
    },
    {
      "cell_type": "code",
      "metadata": {
        "id": "Tn8QRRwEv_H7"
      },
      "source": [
        "import tensorflow as tf\n",
        "from tensorflow.keras.utils import to_categorical"
      ],
      "execution_count": null,
      "outputs": []
    },
    {
      "cell_type": "markdown",
      "metadata": {
        "id": "3Y4YfUP5v_Sd"
      },
      "source": [
        "\n",
        "\n",
        "### 1 - Obtención y preparación de los datos para entrenar"
      ]
    },
    {
      "cell_type": "code",
      "metadata": {
        "id": "3q89YQ4YvlHJ"
      },
      "source": [
        "(x_train, y_train), _ = tf.keras.datasets.mnist.load_data()\n",
        "\n",
        "x_train = x_train.reshape(60000, 784).astype('float32')/255\n",
        "y_train = to_categorical(y_train, num_classes=10)"
      ],
      "execution_count": null,
      "outputs": []
    },
    {
      "cell_type": "markdown",
      "metadata": {
        "id": "EQ4WhZgxwMT7"
      },
      "source": [
        "### 2 - Definición del modelo"
      ]
    },
    {
      "cell_type": "code",
      "metadata": {
        "id": "j_WAGB_lwMYQ"
      },
      "source": [
        "model = tf.keras.Sequential()\n",
        "model.add(tf.keras.layers.Dense(10,activation='sigmoid',input_shape=(784,)))\n",
        "model.add(tf.keras.layers.Dense(10,activation='softmax'))\n"
      ],
      "execution_count": null,
      "outputs": []
    },
    {
      "cell_type": "markdown",
      "metadata": {
        "id": "nznjSb67wVoN"
      },
      "source": [
        "###3 - Configuración del proceso de *learning*"
      ]
    },
    {
      "cell_type": "code",
      "metadata": {
        "id": "e5Q_bhoQwVwz"
      },
      "source": [
        "model.compile(loss=\"categorical_crossentropy\",\n",
        "              optimizer=\"sgd\",\n",
        "              metrics = ['accuracy'])\n",
        "\n"
      ],
      "execution_count": null,
      "outputs": []
    },
    {
      "cell_type": "markdown",
      "metadata": {
        "id": "fy1_u0YYwdti"
      },
      "source": [
        "###4 - Entrenamiento del modelo"
      ]
    },
    {
      "cell_type": "code",
      "metadata": {
        "id": "55aY4oLiwd1x"
      },
      "source": [
        "_ = model.fit(x_train, y_train, epochs=10, verbose = 1)"
      ],
      "execution_count": null,
      "outputs": []
    },
    {
      "cell_type": "markdown",
      "metadata": {
        "id": "jGmuzQYyB2Sx"
      },
      "source": [
        "![Back to presentation](https://raw.githubusercontent.com/jorditorresBCN/HACK-FROM-HOME-ROUND-2/master/back-to-presentation.png)"
      ]
    },
    {
      "cell_type": "markdown",
      "metadata": {
        "id": "FlGBWabq44aM"
      },
      "source": [
        "# Evaluación del modelo"
      ]
    },
    {
      "cell_type": "code",
      "metadata": {
        "id": "SUCG3GxO5CZx"
      },
      "source": [
        "_, (x_test, y_test)= tf.keras.datasets.mnist.load_data()\n",
        "x_test = x_test.reshape(10000, 784).astype('float32')/255\n",
        "y_test = to_categorical(y_test, num_classes=10)\n",
        "\n",
        "_ , test_acc = model.evaluate(x_test, y_test)\n",
        "print('Porcentaje de aciertos:', test_acc*100)"
      ],
      "execution_count": null,
      "outputs": []
    },
    {
      "cell_type": "markdown",
      "metadata": {
        "id": "O8D9uJxqTCMI"
      },
      "source": [
        "![Back to presentation](https://raw.githubusercontent.com/jorditorresBCN/HACK-FROM-HOME-ROUND-2/master/back-to-presentation.png)\n"
      ]
    }
  ]
}