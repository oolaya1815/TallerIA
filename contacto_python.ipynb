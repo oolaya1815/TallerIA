{
  "nbformat": 4,
  "nbformat_minor": 0,
  "metadata": {
    "colab": {
      "name": "clase22.ipynb",
      "provenance": []
    },
    "kernelspec": {
      "name": "python3",
      "display_name": "Python 3"
    },
    "language_info": {
      "name": "python"
    }
  },
  "cells": [
    {
      "cell_type": "code",
      "metadata": {
        "id": "fmM5V6p_G9Cp"
      },
      "source": [
        "print(\"Hola mundo\")"
      ],
      "execution_count": null,
      "outputs": []
    },
    {
      "cell_type": "markdown",
      "metadata": {
        "id": "sI6AaatrlFrp"
      },
      "source": [
        "# Crear dos variables númericas, sumarlas y mostrar el resultado"
      ]
    },
    {
      "cell_type": "code",
      "metadata": {
        "id": "hycM2zTMlMlH"
      },
      "source": [
        "#!/usr/bin/python3\n",
        "\n",
        "variable1 = 5\n",
        "variable2 = 6\n",
        "\n",
        "suma = variable1 + variable2\n",
        "\n",
        "print(\"La suma de\",variable1,\"+\",variable2,\"=\",suma)"
      ],
      "execution_count": null,
      "outputs": []
    },
    {
      "cell_type": "code",
      "metadata": {
        "id": "h048CkVrl1nG"
      },
      "source": [
        "print(f\"La suma de {variable1} + {variable2} = {suma}\")"
      ],
      "execution_count": null,
      "outputs": []
    },
    {
      "cell_type": "code",
      "metadata": {
        "id": "bHQfZ8NlmB0t"
      },
      "source": [
        "a = 10\n",
        "print(a)\n",
        "a=\"nuevo\"\n",
        "print(a)"
      ],
      "execution_count": null,
      "outputs": []
    },
    {
      "cell_type": "code",
      "metadata": {
        "id": "RbLyoEoAmo4I"
      },
      "source": [
        "a = 10\n",
        "b = 7\n",
        "\n",
        "if (a<b):\n",
        "  print(f\"a es menos que b\")\n",
        "else:\n",
        "  print(f\"a es mayor que b\")"
      ],
      "execution_count": null,
      "outputs": []
    },
    {
      "cell_type": "code",
      "metadata": {
        "id": "2x4I0EsOnv95"
      },
      "source": [
        "a = 2\n",
        "a = 3\n",
        "a = 4\n"
      ],
      "execution_count": null,
      "outputs": []
    },
    {
      "cell_type": "code",
      "metadata": {
        "id": "KXiIcNvDnTJm"
      },
      "source": [
        "for i in range(1,10):\n",
        "  print(i)"
      ],
      "execution_count": null,
      "outputs": []
    },
    {
      "cell_type": "code",
      "metadata": {
        "id": "r0B_xAKvn-Yz"
      },
      "source": [
        "def numero(n):\n",
        "  print(n+2)"
      ],
      "execution_count": null,
      "outputs": []
    },
    {
      "cell_type": "code",
      "metadata": {
        "id": "bjpQ_6oCorjE"
      },
      "source": [
        "numero(5)"
      ],
      "execution_count": null,
      "outputs": []
    },
    {
      "cell_type": "code",
      "metadata": {
        "id": "e22LcJz7o1_N"
      },
      "source": [
        "a = 10\n",
        "print(a)\n",
        "def numero(n):\n",
        "  #print(a)\n",
        "  print(n+2)\n",
        "  a=6\n",
        "  print(a)\n",
        "numero(2)\n",
        "print(a)"
      ],
      "execution_count": null,
      "outputs": []
    }
  ]
}